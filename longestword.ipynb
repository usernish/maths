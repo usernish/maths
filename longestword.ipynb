{
  "nbformat": 4,
  "nbformat_minor": 0,
  "metadata": {
    "colab": {
      "provenance": [],
      "authorship_tag": "ABX9TyNSoGP1eJcbxYrCnwV3pCQK",
      "include_colab_link": true
    },
    "kernelspec": {
      "name": "python3",
      "display_name": "Python 3"
    },
    "language_info": {
      "name": "python"
    }
  },
  "cells": [
    {
      "cell_type": "markdown",
      "metadata": {
        "id": "view-in-github",
        "colab_type": "text"
      },
      "source": [
        "<a href=\"https://colab.research.google.com/github/usernish/python/blob/main/longestword.ipynb\" target=\"_parent\"><img src=\"https://colab.research.google.com/assets/colab-badge.svg\" alt=\"Open In Colab\"/></a>"
      ]
    },
    {
      "cell_type": "code",
      "source": [
        "def find_longest_word(words_list):\n",
        "  word_len = []\n",
        "  for n in words_list:\n",
        "    word_len.append((len(n), n))\n",
        "  word_len.sort()\n",
        "  return word_len[-1][1]\n",
        "print(find_longest_word([\"PHP\", \"Exercises\", \"Backend\"]))"
      ],
      "metadata": {
        "colab": {
          "base_uri": "https://localhost:8080/"
        },
        "id": "qY2_bXNh9DMH",
        "outputId": "26b285cf-dc26-4055-eb65-790ed41df809"
      },
      "execution_count": 3,
      "outputs": [
        {
          "output_type": "stream",
          "name": "stdout",
          "text": [
            "Exercises\n"
          ]
        }
      ]
    }
  ]
}