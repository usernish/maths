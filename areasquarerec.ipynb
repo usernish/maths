{
  "nbformat": 4,
  "nbformat_minor": 0,
  "metadata": {
    "colab": {
      "provenance": [],
      "authorship_tag": "ABX9TyN9CnXZtZmRImg2auzRLXDI",
      "include_colab_link": true
    },
    "kernelspec": {
      "name": "python3",
      "display_name": "Python 3"
    },
    "language_info": {
      "name": "python"
    }
  },
  "cells": [
    {
      "cell_type": "markdown",
      "metadata": {
        "id": "view-in-github",
        "colab_type": "text"
      },
      "source": [
        "<a href=\"https://colab.research.google.com/github/usernish/python/blob/main/areasquarerec.ipynb\" target=\"_parent\"><img src=\"https://colab.research.google.com/assets/colab-badge.svg\" alt=\"Open In Colab\"/></a>"
      ]
    },
    {
      "cell_type": "code",
      "execution_count": null,
      "metadata": {
        "colab": {
          "base_uri": "https://localhost:8080/"
        },
        "id": "ugEmgjUx3bNR",
        "outputId": "5ebdd439-c94d-4f36-8422-2ebf7be511ec"
      },
      "outputs": [
        {
          "output_type": "stream",
          "name": "stdout",
          "text": [
            "1. for area of circle\n",
            "2. for area of rectangle\n",
            "3. for circumference of circle\n",
            "4. for area of square\n",
            "enter your choice (enter 0 to exit):1\n",
            "enter the radius of the circle:3\n",
            "area of circle: 28.259999999999998\n",
            "1. for area of circle\n",
            "2. for area of rectangle\n",
            "3. for circumference of circle\n",
            "4. for area of square\n",
            "enter your choice (enter 0 to exit):15\n",
            "invalid option\n",
            "1. for area of circle\n",
            "2. for area of rectangle\n",
            "3. for circumference of circle\n",
            "4. for area of square\n",
            "enter your choice (enter 0 to exit):1\n",
            "enter the radius of the circle:5\n",
            "area of circle: 78.5\n",
            "1. for area of circle\n",
            "2. for area of rectangle\n",
            "3. for circumference of circle\n",
            "4. for area of square\n",
            "enter your choice (enter 0 to exit):2\n",
            "enter the length:4\n",
            "enter the breadth:4\n",
            "area of rectangle: 16\n",
            "1. for area of circle\n",
            "2. for area of rectangle\n",
            "3. for circumference of circle\n",
            "4. for area of square\n",
            "enter your choice (enter 0 to exit):3\n",
            "enter the radius of the circle:5\n",
            "circumference of circle: 30\n",
            "1. for area of circle\n",
            "2. for area of rectangle\n",
            "3. for circumference of circle\n",
            "4. for area of square\n",
            "enter your choice (enter 0 to exit):6\n",
            "invalid option\n",
            "1. for area of circle\n",
            "2. for area of rectangle\n",
            "3. for circumference of circle\n",
            "4. for area of square\n",
            "enter your choice (enter 0 to exit):3\n",
            "enter the radius of the circle:3\n",
            "circumference of circle: 18\n",
            "1. for area of circle\n",
            "2. for area of rectangle\n",
            "3. for circumference of circle\n",
            "4. for area of square\n",
            "enter your choice (enter 0 to exit):4\n",
            "enter the side of square:4\n",
            "area of square: 16\n",
            "1. for area of circle\n",
            "2. for area of rectangle\n",
            "3. for circumference of circle\n",
            "4. for area of square\n",
            "enter your choice (enter 0 to exit):5\n",
            "invalid option\n",
            "1. for area of circle\n",
            "2. for area of rectangle\n",
            "3. for circumference of circle\n",
            "4. for area of square\n"
          ]
        }
      ],
      "source": [
        "while True:\n",
        "  print(\"1. for area of circle\")\n",
        "  print(\"2. for area of rectangle\")\n",
        "  print(\"3. for circumference of circle\")\n",
        "  print(\"4. for area of square\")\n",
        "  ch=int(input(\"enter your choice (enter 0 to exit):\"))\n",
        "  if ch==1:\n",
        "      r=int(input(\"enter the radius of the circle:\"))\n",
        "      a=3.14*r*r\n",
        "      print(\"area of circle:\",a)\n",
        "  elif ch==2:\n",
        "      l=int(input(\"enter the length:\"))\n",
        "      b=int(input(\"enter the breadth:\"))\n",
        "      a=l*b\n",
        "      print(\"area of rectangle:\",a)\n",
        "  elif ch==3:\n",
        "      r=int(input(\"enter the radius of the circle:\"))\n",
        "      c=2*(int(3.14*r))\n",
        "      print (\"circumference of circle:\",c)\n",
        "  elif ch==4:\n",
        "      l=int(input(\"enter the side of square:\"))\n",
        "      a=l*l\n",
        "      print(\"area of square:\",a)\n",
        "  elif ch==0:\n",
        "    break         \n",
        "  else:\n",
        "     print(\"invalid option\")"
      ]
    }
  ]
}