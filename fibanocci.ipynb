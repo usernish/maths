{
  "nbformat": 4,
  "nbformat_minor": 0,
  "metadata": {
    "colab": {
      "provenance": [],
      "authorship_tag": "ABX9TyPOwa9WnrYofFalvzvYMXYg",
      "include_colab_link": true
    },
    "kernelspec": {
      "name": "python3",
      "display_name": "Python 3"
    },
    "language_info": {
      "name": "python"
    }
  },
  "cells": [
    {
      "cell_type": "markdown",
      "metadata": {
        "id": "view-in-github",
        "colab_type": "text"
      },
      "source": [
        "<a href=\"https://colab.research.google.com/github/usernish/python/blob/main/fibanocci.ipynb\" target=\"_parent\"><img src=\"https://colab.research.google.com/assets/colab-badge.svg\" alt=\"Open In Colab\"/></a>"
      ]
    },
    {
      "cell_type": "code",
      "execution_count": 1,
      "metadata": {
        "colab": {
          "base_uri": "https://localhost:8080/"
        },
        "id": "YTcXcSGc5Uge",
        "outputId": "7fd48833-545d-4a2a-8212-32619d6f9024"
      },
      "outputs": [
        {
          "output_type": "stream",
          "name": "stdout",
          "text": [
            "Enter the value of 'n': 5\n",
            "Fibonacci series:  0 1 1 2 3 "
          ]
        }
      ],
      "source": [
        "n=int(input(\"Enter the value of 'n': \"))\n",
        "a=0\n",
        "b=1\n",
        "sum=0\n",
        "count=1\n",
        "print(\"Fibonacci series: \",end=\" \")\n",
        "while(count<=n):\n",
        "    print(sum,end=\" \")\n",
        "    count+=1\n",
        "    a=b\n",
        "    b=sum\n",
        "    sum=a+b\n",
        "     "
      ]
    }
  ]
}