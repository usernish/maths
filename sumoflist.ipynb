{
  "nbformat": 4,
  "nbformat_minor": 0,
  "metadata": {
    "colab": {
      "provenance": [],
      "authorship_tag": "ABX9TyMHskdzkLD+dm33OS0NdYHm",
      "include_colab_link": true
    },
    "kernelspec": {
      "name": "python3",
      "display_name": "Python 3"
    },
    "language_info": {
      "name": "python"
    }
  },
  "cells": [
    {
      "cell_type": "markdown",
      "metadata": {
        "id": "view-in-github",
        "colab_type": "text"
      },
      "source": [
        "<a href=\"https://colab.research.google.com/github/usernish/python/blob/main/sumoflist.ipynb\" target=\"_parent\"><img src=\"https://colab.research.google.com/assets/colab-badge.svg\" alt=\"Open In Colab\"/></a>"
      ]
    },
    {
      "cell_type": "code",
      "execution_count": 1,
      "metadata": {
        "colab": {
          "base_uri": "https://localhost:8080/"
        },
        "id": "RVYS26wX6UUU",
        "outputId": "738d033a-ac77-4bb9-e5df-465b704d25b8"
      },
      "outputs": [
        {
          "output_type": "stream",
          "name": "stdout",
          "text": [
            "How many numbers: 3\n",
            "Enter number2\n",
            "Enter number3\n",
            "Enter number1\n",
            "sum of elements in given list is: 6\n"
          ]
        }
      ],
      "source": [
        "lst=[]\n",
        "num=int(input(\"How many numbers: \"))\n",
        "for n in range(num):\n",
        "    numbers=int(input(\"Enter number\"))\n",
        "    lst.append(numbers)\n",
        "print(\"sum of elements in given list is:\",sum(lst))\n",
        "     "
      ]
    }
  ]
}